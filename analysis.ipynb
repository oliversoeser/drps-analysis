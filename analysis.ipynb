{
 "cells": [
  {
   "cell_type": "code",
   "execution_count": 1,
   "metadata": {},
   "outputs": [],
   "source": [
    "import re\n",
    "import pandas as pd\n",
    "import processing\n",
    "from graphs import *\n",
    "\n",
    "DATA_PATH = \"./data/courses.json\""
   ]
  },
  {
   "cell_type": "markdown",
   "metadata": {},
   "source": [
    "## Dataset\n",
    "\n",
    "Courses are indexed by their codes."
   ]
  },
  {
   "cell_type": "code",
   "execution_count": 2,
   "metadata": {},
   "outputs": [
    {
     "data": {
      "text/html": [
       "<div>\n",
       "<style scoped>\n",
       "    .dataframe tbody tr th:only-of-type {\n",
       "        vertical-align: middle;\n",
       "    }\n",
       "\n",
       "    .dataframe tbody tr th {\n",
       "        vertical-align: top;\n",
       "    }\n",
       "\n",
       "    .dataframe thead th {\n",
       "        text-align: right;\n",
       "    }\n",
       "</style>\n",
       "<table border=\"1\" class=\"dataframe\">\n",
       "  <thead>\n",
       "    <tr style=\"text-align: right;\">\n",
       "      <th></th>\n",
       "      <th>title</th>\n",
       "      <th>outline_school</th>\n",
       "      <th>outline_college</th>\n",
       "      <th>outline_level_year</th>\n",
       "      <th>outline_scqf</th>\n",
       "      <th>outline_ects</th>\n",
       "      <th>entry_pre_req</th>\n",
       "      <th>additional_keywords</th>\n",
       "      <th>delivery_start</th>\n",
       "    </tr>\n",
       "  </thead>\n",
       "  <tbody>\n",
       "    <tr>\n",
       "      <th>math08073</th>\n",
       "      <td>Undergraduate Course: Mathematics for the Natu...</td>\n",
       "      <td>School of Mathematics</td>\n",
       "      <td>College of Science and Engineering</td>\n",
       "      <td>SCQF Level 8 (Year 1 Undergraduate)</td>\n",
       "      <td>20</td>\n",
       "      <td>10.0</td>\n",
       "      <td></td>\n",
       "      <td>MNS1b,Sequences,series,power series,differenti...</td>\n",
       "      <td>Semester 2</td>\n",
       "    </tr>\n",
       "    <tr>\n",
       "      <th>math08074</th>\n",
       "      <td>Undergraduate Course: Engineering Mathematics ...</td>\n",
       "      <td>School of Mathematics</td>\n",
       "      <td>College of Science and Engineering</td>\n",
       "      <td>SCQF Level 8 (Year 1 Undergraduate)</td>\n",
       "      <td>20</td>\n",
       "      <td>10.0</td>\n",
       "      <td></td>\n",
       "      <td>EM1a,algebra,polynomials,functions,complex num...</td>\n",
       "      <td>Semester 1</td>\n",
       "    </tr>\n",
       "    <tr>\n",
       "      <th>math08075</th>\n",
       "      <td>Undergraduate Course: Engineering Mathematics ...</td>\n",
       "      <td>School of Mathematics</td>\n",
       "      <td>College of Science and Engineering</td>\n",
       "      <td>SCQF Level 8 (Year 1 Undergraduate)</td>\n",
       "      <td>20</td>\n",
       "      <td>10.0</td>\n",
       "      <td></td>\n",
       "      <td>EM1b,Sequences,series,power series,differentia...</td>\n",
       "      <td>Semester 2</td>\n",
       "    </tr>\n",
       "    <tr>\n",
       "      <th>math07003</th>\n",
       "      <td>Undergraduate Course: Fundamentals of Algebra ...</td>\n",
       "      <td>School of Mathematics</td>\n",
       "      <td>College of Science and Engineering</td>\n",
       "      <td>SCQF Level 7 (Year 1 Undergraduate)</td>\n",
       "      <td>20</td>\n",
       "      <td>10.0</td>\n",
       "      <td></td>\n",
       "      <td>FAC</td>\n",
       "      <td>Semester 1</td>\n",
       "    </tr>\n",
       "    <tr>\n",
       "      <th>math07004</th>\n",
       "      <td>Undergraduate Course: Introductory Mathematics...</td>\n",
       "      <td>School of Mathematics</td>\n",
       "      <td>College of Science and Engineering</td>\n",
       "      <td>SCQF Level 7 (Year 1 Undergraduate)</td>\n",
       "      <td>20</td>\n",
       "      <td>10.0</td>\n",
       "      <td></td>\n",
       "      <td>IMA</td>\n",
       "      <td>Semester 1</td>\n",
       "    </tr>\n",
       "  </tbody>\n",
       "</table>\n",
       "</div>"
      ],
      "text/plain": [
       "                                                       title  \\\n",
       "math08073  Undergraduate Course: Mathematics for the Natu...   \n",
       "math08074  Undergraduate Course: Engineering Mathematics ...   \n",
       "math08075  Undergraduate Course: Engineering Mathematics ...   \n",
       "math07003  Undergraduate Course: Fundamentals of Algebra ...   \n",
       "math07004  Undergraduate Course: Introductory Mathematics...   \n",
       "\n",
       "                  outline_school                     outline_college  \\\n",
       "math08073  School of Mathematics  College of Science and Engineering   \n",
       "math08074  School of Mathematics  College of Science and Engineering   \n",
       "math08075  School of Mathematics  College of Science and Engineering   \n",
       "math07003  School of Mathematics  College of Science and Engineering   \n",
       "math07004  School of Mathematics  College of Science and Engineering   \n",
       "\n",
       "                            outline_level_year  outline_scqf  outline_ects  \\\n",
       "math08073  SCQF Level 8 (Year 1 Undergraduate)            20          10.0   \n",
       "math08074  SCQF Level 8 (Year 1 Undergraduate)            20          10.0   \n",
       "math08075  SCQF Level 8 (Year 1 Undergraduate)            20          10.0   \n",
       "math07003  SCQF Level 7 (Year 1 Undergraduate)            20          10.0   \n",
       "math07004  SCQF Level 7 (Year 1 Undergraduate)            20          10.0   \n",
       "\n",
       "          entry_pre_req                                additional_keywords  \\\n",
       "math08073                MNS1b,Sequences,series,power series,differenti...   \n",
       "math08074                EM1a,algebra,polynomials,functions,complex num...   \n",
       "math08075                EM1b,Sequences,series,power series,differentia...   \n",
       "math07003                                                              FAC   \n",
       "math07004                                                              IMA   \n",
       "\n",
       "          delivery_start  \n",
       "math08073     Semester 2  \n",
       "math08074     Semester 1  \n",
       "math08075     Semester 2  \n",
       "math07003     Semester 1  \n",
       "math07004     Semester 1  "
      ]
     },
     "execution_count": 2,
     "metadata": {},
     "output_type": "execute_result"
    }
   ],
   "source": [
    "courses_df = pd.read_json(DATA_PATH, orient=\"index\").filter(regex=\"math0.*\", axis=\"index\")\n",
    "courses_df.head()"
   ]
  },
  {
   "cell_type": "code",
   "execution_count": 3,
   "metadata": {},
   "outputs": [],
   "source": [
    "scqf = courses_df[\"outline_level_year\"]\n",
    "\n",
    "SCQF_PATTERN = r\"SCQF Level (?P<level>\\d+) \\((Year (?P<year>\\d) (Undergraduate)|Postgraduate)\\)\"\n",
    "\n",
    "def scqfGroup(level_year):\n",
    "    m = re.match(SCQF_PATTERN, level_year)\n",
    "    return m.groupdict()\n",
    "\n",
    "courses_df[\"year\"] = pd.to_numeric(scqf.apply(lambda x : scqfGroup(x)[\"year\"]))\n",
    "courses_df[\"level\"] = pd.to_numeric(scqf.apply(lambda x : scqfGroup(x)[\"level\"]))\n",
    "\n",
    "START_PATTERN = r\"Semester (?P<semester>\\d)\"\n",
    "\n",
    "courses_df[\"semester\"] = pd.to_numeric(courses_df[\"delivery_start\"].apply(lambda x : re.match(START_PATTERN, x).groupdict()[\"semester\"]))\n",
    "courses_df[\"start\"] = courses_df[\"year\"] + courses_df[\"semester\"] * 0.1"
   ]
  },
  {
   "cell_type": "code",
   "execution_count": 4,
   "metadata": {},
   "outputs": [],
   "source": [
    "prereqs = courses_df[\"entry_pre_req\"].apply(processing.prereq)"
   ]
  },
  {
   "cell_type": "code",
   "execution_count": 5,
   "metadata": {},
   "outputs": [],
   "source": [
    "G = PriorityGraph()\n",
    "\n",
    "course_to_vertex = {}\n",
    "vertex_to_course = {}\n",
    "\n",
    "for course, _ in prereqs.items():\n",
    "    i = G.addVertex(courses_df[\"start\"][course])\n",
    "    course_to_vertex[course] = i\n",
    "    vertex_to_course[i] = course\n",
    "\n",
    "for course, prereq in prereqs.items():\n",
    "    for pre_course in prereq:\n",
    "        if pre_course in course_to_vertex.keys():\n",
    "            G.addEdge(course_to_vertex[pre_course], course_to_vertex[course])\n",
    "\n"
   ]
  },
  {
   "cell_type": "code",
   "execution_count": 6,
   "metadata": {},
   "outputs": [],
   "source": [
    "L = G.topSort()\n",
    "course_order = list(reversed(list(map(lambda i : courses_df.loc[vertex_to_course[i]][\"title\"], L))))"
   ]
  },
  {
   "cell_type": "code",
   "execution_count": 7,
   "metadata": {},
   "outputs": [
    {
     "data": {
      "text/plain": [
       "['Undergraduate Course: Introduction to Data Science (MATH08077)',\n",
       " 'Undergraduate Course: Introductory Mathematics with Applications (MATH07004)',\n",
       " 'Undergraduate Course: Introduction to Linear Algebra (MATH08057)',\n",
       " 'Undergraduate Course: Engineering Mathematics 1a (MATH08074)',\n",
       " 'Undergraduate Course: Fundamentals of Algebra and Calculus (MATH07003)',\n",
       " 'Undergraduate Course: Mathematics for the Natural Sciences 1a (MATH08072)',\n",
       " 'Undergraduate Course: Calculus and its Applications (MATH08058)',\n",
       " 'Undergraduate Course: Mathematics for the Natural Sciences 1b (MATH08073)',\n",
       " 'Undergraduate Course: Proofs and Problem Solving (MATH08059)',\n",
       " 'Undergraduate Course: Engineering Mathematics 1b (MATH08075)',\n",
       " 'Undergraduate Course: Facets of Mathematics (MATH08068)',\n",
       " 'Undergraduate Course: Accelerated Algebra and Calculus for Direct Entry (MATH08062)',\n",
       " 'Undergraduate Course: Several Variable Calculus and Differential Equations (MATH08063)',\n",
       " 'Undergraduate Course: Accelerated Proofs and Problem Solving (MATH08071)',\n",
       " 'Undergraduate Course: Probability (MATH08066)',\n",
       " 'Undergraduate Course: Computing and Numerics (MATH08065)',\n",
       " 'Undergraduate Course: Statistics (Year 2) (MATH08051)',\n",
       " 'Undergraduate Course: Fundamentals of Pure Mathematics (MATH08064)']"
      ]
     },
     "execution_count": 7,
     "metadata": {},
     "output_type": "execute_result"
    }
   ],
   "source": [
    "course_order"
   ]
  },
  {
   "cell_type": "markdown",
   "metadata": {},
   "source": [
    "TODO: Connected components"
   ]
  }
 ],
 "metadata": {
  "kernelspec": {
   "display_name": "Python 3",
   "language": "python",
   "name": "python3"
  },
  "language_info": {
   "codemirror_mode": {
    "name": "ipython",
    "version": 3
   },
   "file_extension": ".py",
   "mimetype": "text/x-python",
   "name": "python",
   "nbconvert_exporter": "python",
   "pygments_lexer": "ipython3",
   "version": "3.12.6"
  }
 },
 "nbformat": 4,
 "nbformat_minor": 2
}
