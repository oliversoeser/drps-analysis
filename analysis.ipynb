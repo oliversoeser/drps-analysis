{
 "cells": [
  {
   "cell_type": "code",
   "execution_count": 1,
   "metadata": {},
   "outputs": [],
   "source": [
    "import pandas as pd\n",
    "import processing\n",
    "from graphs import *\n",
    "\n",
    "DATA_PATH = \"./data/courses.json\"\n",
    "\n",
    "courses_df = pd.read_json(DATA_PATH, orient=\"index\").dropna()"
   ]
  },
  {
   "cell_type": "code",
   "execution_count": 2,
   "metadata": {},
   "outputs": [],
   "source": [
    "outline = courses_df[\"outline_level_year\"]\n",
    "start = courses_df[\"delivery_start\"]\n",
    "\n",
    "courses_df[\"year\"] = pd.to_numeric(outline.apply(processing.year))\n",
    "courses_df[\"start_semester\"] = pd.to_numeric(start.apply(processing.semester))\n",
    "\n",
    "courses_df[\"start_score\"] = courses_df[\"year\"] + courses_df[\"start_semester\"] * 0.1\n",
    "courses_df = courses_df.dropna()\n",
    "\n",
    "prereqs = courses_df[\"entry_pre_req\"].apply(processing.prereq)"
   ]
  },
  {
   "cell_type": "code",
   "execution_count": 3,
   "metadata": {},
   "outputs": [],
   "source": [
    "G = PriorityGraph()\n",
    "\n",
    "course_to_vertex = {}\n",
    "vertex_to_course = {}\n",
    "\n",
    "for course, _ in prereqs.items():\n",
    "    i = G.addVertex(courses_df[\"start_score\"][course])\n",
    "    course_to_vertex[course] = i\n",
    "    vertex_to_course[i] = course\n",
    "\n",
    "for course, prereq in prereqs.items():\n",
    "    for pre_course in prereq:\n",
    "        if pre_course in course_to_vertex.keys():\n",
    "            G.addEdge(course_to_vertex[pre_course], course_to_vertex[course])\n"
   ]
  },
  {
   "cell_type": "code",
   "execution_count": 4,
   "metadata": {},
   "outputs": [],
   "source": [
    "L = G.topSort()\n",
    "course_order = processing.list_order(map(lambda i : courses_df.loc[vertex_to_course[i]][\"title\"], L))"
   ]
  },
  {
   "cell_type": "code",
   "execution_count": 5,
   "metadata": {},
   "outputs": [],
   "source": [
    "G = Graph()\n",
    "\n",
    "course_to_vertex = {}\n",
    "vertex_to_course = {}\n",
    "\n",
    "for course, _ in prereqs.items():\n",
    "    i = G.addVertex()\n",
    "    course_to_vertex[course] = i\n",
    "    vertex_to_course[i] = course\n",
    "\n",
    "for course, prereq in prereqs.items():\n",
    "    for pre_course in prereq:\n",
    "        if pre_course in course_to_vertex.keys():\n",
    "            # We want this graph to be undirected\n",
    "            G.addEdge(course_to_vertex[pre_course], course_to_vertex[course])\n",
    "            G.addEdge(course_to_vertex[course], course_to_vertex[pre_course])\n",
    "\n",
    "CC = G.connComp()\n",
    "CC = sorted(CC, key=lambda l : len(l), reverse=True)"
   ]
  },
  {
   "cell_type": "code",
   "execution_count": null,
   "metadata": {},
   "outputs": [],
   "source": []
  }
 ],
 "metadata": {
  "kernelspec": {
   "display_name": "Python 3",
   "language": "python",
   "name": "python3"
  },
  "language_info": {
   "codemirror_mode": {
    "name": "ipython",
    "version": 3
   },
   "file_extension": ".py",
   "mimetype": "text/x-python",
   "name": "python",
   "nbconvert_exporter": "python",
   "pygments_lexer": "ipython3",
   "version": "3.12.6"
  }
 },
 "nbformat": 4,
 "nbformat_minor": 2
}
